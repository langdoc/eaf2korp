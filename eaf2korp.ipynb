{
 "cells": [
  {
   "cell_type": "markdown",
   "metadata": {},
   "source": [
    "# ELAN to Korp pipeline"
   ]
  },
  {
   "cell_type": "markdown",
   "metadata": {},
   "source": [
    "This script has been written by Niko Partanen in June 2019 while working in Kone Foundation funded research project IKDP-2, and it can be freely used to any purposes. See LICENSE for more information."
   ]
  },
  {
   "cell_type": "markdown",
   "metadata": {},
   "source": [
    "## Example call\n",
    "\n",
    "    eaf2korp(elan_file_path = \"elan_file.eaf\", language = \"fin\", transcription_tier = \"utterance\")"
   ]
  },
  {
   "cell_type": "markdown",
   "metadata": {},
   "source": [
    "## Code"
   ]
  },
  {
   "cell_type": "markdown",
   "metadata": {},
   "source": [
    "Following packages are used."
   ]
  },
  {
   "cell_type": "code",
   "execution_count": 1,
   "metadata": {},
   "outputs": [],
   "source": [
    "from pathlib import Path\n",
    "from uralicNLP.cg3 import Cg3\n",
    "from uralicNLP import uralicApi\n",
    "from nltk.tokenize import word_tokenize\n",
    "import pympi\n",
    "import xml.etree.ElementTree as ET\n",
    "import re"
   ]
  },
  {
   "cell_type": "markdown",
   "metadata": {},
   "source": [
    "This needs to be run if the analyser is not yet downloaded."
   ]
  },
  {
   "cell_type": "code",
   "execution_count": 2,
   "metadata": {},
   "outputs": [],
   "source": [
    "# uralicApi.download(\"kpv\")"
   ]
  },
  {
   "cell_type": "markdown",
   "metadata": {},
   "source": [
    "The function is defined here. It is in no way ideally set up, but works as proof of concept, and can be easily improved."
   ]
  },
  {
   "cell_type": "code",
   "execution_count": 3,
   "metadata": {},
   "outputs": [],
   "source": [
    "def eaf2korp(elan_file_path, language = \"kpv\", transcription_tier = \"orthT\"):\n",
    "    \n",
    "    # This needs some check on whether the language models have been downloaded\n",
    "    \n",
    "    cg = Cg3(language)\n",
    "\n",
    "    session_name = Path(elan_file_path).stem\n",
    "\n",
    "    elan_file = pympi.Elan.Eaf(file_path = elan_file_path)\n",
    "\n",
    "    transcription_tiers = elan_file.get_tier_ids_for_linguistic_type(transcription_tier)\n",
    "\n",
    "    root = ET.Element(\"text\")\n",
    "    \n",
    "    annotations = []\n",
    "\n",
    "    pos_tags = ['A', 'Adp', 'Adv', 'CS', 'CC', 'CONJ', 'Det', 'Interj', 'N', 'Num', 'Pcle', 'Po', 'Pr', 'Pron', 'Qnt', 'V', 'CLB']\n",
    "\n",
    "    for transcription_tier in transcription_tiers:\n",
    "\n",
    "        annotation_values = elan_file.get_annotation_data_for_tier(transcription_tier)\n",
    "\n",
    "        for annotation_value in annotation_values:\n",
    "\n",
    "            text_content = annotation_value[2]\n",
    "            text_content = re.sub(\"…\", \".\", text_content) # It seems word_tokenize doesn't handle \"…\"\n",
    "            text_content = re.sub(\"\\[\\[unclear\\]\\]\", \"\", text_content)\n",
    "\n",
    "            words = word_tokenize(text_content)\n",
    "\n",
    "            disambiguations = cg.disambiguate(words)\n",
    "\n",
    "            tokens = []\n",
    "            lemmas = []            \n",
    "            tags = []\n",
    "\n",
    "            for disambiguation in disambiguations:\n",
    "                tokens.append(disambiguation[0])\n",
    "\n",
    "            for disambiguation in disambiguations:\n",
    "                possible_words = disambiguation[1]\n",
    "                temp_list = []\n",
    "                for possible_word in possible_words:\n",
    "                    possible_word.morphology.pop()\n",
    "                    for analysis in possible_word.morphology:\n",
    "                        if analysis in pos_tags:\n",
    "                            temp_list.append(analysis)\n",
    "\n",
    "                unique_list = list(set(temp_list))\n",
    "\n",
    "                unique_string = '|'.join(unique_list)\n",
    "                tags.append('|'.join(unique_list))\n",
    "\n",
    "            for disambiguation in disambiguations:\n",
    "                possible_words = disambiguation[1]\n",
    "                temp_list = []\n",
    "                for possible_word in possible_words:\n",
    "                    temp_list.append(possible_word.lemma)\n",
    "                unique_list = list(set(temp_list))\n",
    "                lemmas.append('|'.join(unique_list))\n",
    "\n",
    "            word_ids = range(1, len(lemmas) + 1)\n",
    "\n",
    "            sentence_text = \"\\n\"\n",
    "\n",
    "            for word_id, token, lemma, tag in zip(word_ids, tokens, lemmas, tags):\n",
    "                line_text = str(word_id) + '\\t' + token + '\\t' + lemma + '\\t' + tag + '\\n'\n",
    "                sentence_text += line_text\n",
    "\n",
    "            ET.SubElement(root, \"sentence\", name=\"1\").text = sentence_text\n",
    "\n",
    "        tree = ET.ElementTree(root)\n",
    "        tree.write(session_name + \".vrt\", encoding=\"UTF-8\")\n"
   ]
  },
  {
   "cell_type": "code",
   "execution_count": 4,
   "metadata": {},
   "outputs": [
    {
     "name": "stdout",
     "output_type": "stream",
     "text": [
      "Parsing unknown version of ELAN spec... This could result in errors...\n"
     ]
    }
   ],
   "source": [
    "eaf2korp(\"kpv_izva20140404IgusevJA-fragment.eaf\", language = \"kpv\", transcription_tier = \"orthT\")"
   ]
  }
 ],
 "metadata": {
  "kernelspec": {
   "display_name": "Python 3",
   "language": "python",
   "name": "python3"
  },
  "language_info": {
   "codemirror_mode": {
    "name": "ipython",
    "version": 3
   },
   "file_extension": ".py",
   "mimetype": "text/x-python",
   "name": "python",
   "nbconvert_exporter": "python",
   "pygments_lexer": "ipython3",
   "version": "3.7.3"
  }
 },
 "nbformat": 4,
 "nbformat_minor": 2
}
