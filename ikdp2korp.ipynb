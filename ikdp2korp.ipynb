{
 "cells": [
  {
   "cell_type": "code",
   "execution_count": 5,
   "metadata": {},
   "outputs": [],
   "source": [
    "import os, shutil\n",
    "from pathlib import Path\n",
    "from uralicNLP.cg3 import Cg3\n",
    "from uralicNLP import uralicApi\n",
    "from nltk.tokenize import word_tokenize\n",
    "import pympi\n",
    "import xml.etree.cElementTree as ET\n",
    "import re\n",
    "\n",
    "import eaf2korp"
   ]
  },
  {
   "cell_type": "markdown",
   "metadata": {},
   "source": [
    "We have a folder called `vrt`, however, we want to empty it first before writing new annotation files into it. The idea should be that we modify ELAN files, and the changes there result in update of old VRT files. Of course replacing all of them at once is not very effective, so there probably should be Git commit info in VRT, or in configuration file, with a check whether there has been an update or not since that commit."
   ]
  },
  {
   "cell_type": "code",
   "execution_count": 6,
   "metadata": {},
   "outputs": [],
   "source": [
    "folder = './vrt'\n",
    "for the_file in os.listdir(folder):\n",
    "    file_path = os.path.join(folder, the_file)\n",
    "    try:\n",
    "        if os.path.isfile(file_path):\n",
    "            os.unlink(file_path)\n",
    "    except Exception as e:\n",
    "        print(e)"
   ]
  },
  {
   "cell_type": "markdown",
   "metadata": {},
   "source": [
    "`eaf2vrt` function is designed so that it takes an ELAN file and writes it into an arbitrary location as a VRT file. Thereby both input and output file have to be specified. Also ELAN tier that contains the annotations we want to work with has to be specified."
   ]
  },
  {
   "cell_type": "code",
   "execution_count": 7,
   "metadata": {},
   "outputs": [
    {
     "name": "stdout",
     "output_type": "stream",
     "text": [
      "Parsing unknown version of ELAN spec... This could result in errors...\n",
      "Parsing unknown version of ELAN spec... This could result in errors...\n",
      "Parsing unknown version of ELAN spec... This could result in errors...\n",
      "Parsing unknown version of ELAN spec... This could result in errors...\n",
      "Parsing unknown version of ELAN spec... This could result in errors...\n",
      "Parsing unknown version of ELAN spec... This could result in errors...\n",
      "Parsing unknown version of ELAN spec... This could result in errors...\n",
      "Parsing unknown version of ELAN spec... This could result in errors...\n",
      "Parsing unknown version of ELAN spec... This could result in errors...\n",
      "Parsing unknown version of ELAN spec... This could result in errors...\n",
      "Parsing unknown version of ELAN spec... This could result in errors...\n",
      "Parsing unknown version of ELAN spec... This could result in errors...\n",
      "Parsing unknown version of ELAN spec... This could result in errors...\n",
      "Parsing unknown version of ELAN spec... This could result in errors...\n",
      "Parsing unknown version of ELAN spec... This could result in errors...\n",
      "Parsing unknown version of ELAN spec... This could result in errors...\n",
      "Parsing unknown version of ELAN spec... This could result in errors...\n",
      "Parsing unknown version of ELAN spec... This could result in errors...\n",
      "Parsing unknown version of ELAN spec... This could result in errors...\n",
      "Parsing unknown version of ELAN spec... This could result in errors...\n",
      "Parsing unknown version of ELAN spec... This could result in errors...\n",
      "Parsing unknown version of ELAN spec... This could result in errors...\n",
      "Parsing unknown version of ELAN spec... This could result in errors...\n",
      "Parsing unknown version of ELAN spec... This could result in errors...\n",
      "Parsing unknown version of ELAN spec... This could result in errors...\n",
      "Parsing unknown version of ELAN spec... This could result in errors...\n",
      "Parsing unknown version of ELAN spec... This could result in errors...\n",
      "Parsing unknown version of ELAN spec... This could result in errors...\n",
      "Parsing unknown version of ELAN spec... This could result in errors...\n",
      "Parsing unknown version of ELAN spec... This could result in errors...\n",
      "Parsing unknown version of ELAN spec... This could result in errors...\n",
      "Parsing unknown version of ELAN spec... This could result in errors...\n",
      "Parsing unknown version of ELAN spec... This could result in errors...\n",
      "Parsing unknown version of ELAN spec... This could result in errors...\n",
      "Parsing unknown version of ELAN spec... This could result in errors...\n",
      "Parsing unknown version of ELAN spec... This could result in errors...\n",
      "Parsing unknown version of ELAN spec... This could result in errors...\n",
      "Parsing unknown version of ELAN spec... This could result in errors...\n",
      "Parsing unknown version of ELAN spec... This could result in errors...\n",
      "Parsing unknown version of ELAN spec... This could result in errors...\n",
      "Parsing unknown version of ELAN spec... This could result in errors...\n",
      "Parsing unknown version of ELAN spec... This could result in errors...\n",
      "Parsing unknown version of ELAN spec... This could result in errors...\n",
      "Parsing unknown version of ELAN spec... This could result in errors...\n",
      "Parsing unknown version of ELAN spec... This could result in errors...\n",
      "Parsing unknown version of ELAN spec... This could result in errors...\n",
      "Parsing unknown version of ELAN spec... This could result in errors...\n",
      "Parsing unknown version of ELAN spec... This could result in errors...\n",
      "Parsing unknown version of ELAN spec... This could result in errors...\n",
      "Parsing unknown version of ELAN spec... This could result in errors...\n",
      "Parsing unknown version of ELAN spec... This could result in errors...\n",
      "Parsing unknown version of ELAN spec... This could result in errors...\n",
      "Parsing unknown version of ELAN spec... This could result in errors...\n",
      "Parsing unknown version of ELAN spec... This could result in errors...\n",
      "Parsing unknown version of ELAN spec... This could result in errors...\n",
      "Parsing unknown version of ELAN spec... This could result in errors...\n",
      "Parsing unknown version of ELAN spec... This could result in errors...\n",
      "Parsing unknown version of ELAN spec... This could result in errors...\n",
      "Parsing unknown version of ELAN spec... This could result in errors...\n",
      "Parsing unknown version of ELAN spec... This could result in errors...\n",
      "Parsing unknown version of ELAN spec... This could result in errors...\n",
      "Parsing unknown version of ELAN spec... This could result in errors...\n",
      "Parsing unknown version of ELAN spec... This could result in errors...\n",
      "Parsing unknown version of ELAN spec... This could result in errors...\n",
      "Parsing unknown version of ELAN spec... This could result in errors...\n",
      "Parsing unknown version of ELAN spec... This could result in errors...\n",
      "Parsing unknown version of ELAN spec... This could result in errors...\n",
      "Parsing unknown version of ELAN spec... This could result in errors...\n",
      "Parsing unknown version of ELAN spec... This could result in errors...\n",
      "Parsing unknown version of ELAN spec... This could result in errors...\n",
      "Parsing unknown version of ELAN spec... This could result in errors...\n",
      "Parsing unknown version of ELAN spec... This could result in errors...\n",
      "Parsing unknown version of ELAN spec... This could result in errors...\n",
      "Parsing unknown version of ELAN spec... This could result in errors...\n",
      "Parsing unknown version of ELAN spec... This could result in errors...\n",
      "Parsing unknown version of ELAN spec... This could result in errors...\n",
      "Parsing unknown version of ELAN spec... This could result in errors...\n",
      "Parsing unknown version of ELAN spec... This could result in errors...\n",
      "Parsing unknown version of ELAN spec... This could result in errors...\n",
      "Parsing unknown version of ELAN spec... This could result in errors...\n",
      "Parsing unknown version of ELAN spec... This could result in errors...\n",
      "Parsing unknown version of ELAN spec... This could result in errors...\n",
      "Parsing unknown version of ELAN spec... This could result in errors...\n",
      "Parsing unknown version of ELAN spec... This could result in errors...\n",
      "Parsing unknown version of ELAN spec... This could result in errors...\n",
      "Parsing unknown version of ELAN spec... This could result in errors...\n",
      "Parsing unknown version of ELAN spec... This could result in errors...\n",
      "Parsing unknown version of ELAN spec... This could result in errors...\n",
      "Parsing unknown version of ELAN spec... This could result in errors...\n",
      "Parsing unknown version of ELAN spec... This could result in errors...\n",
      "Parsing unknown version of ELAN spec... This could result in errors...\n",
      "Parsing unknown version of ELAN spec... This could result in errors...\n",
      "Parsing unknown version of ELAN spec... This could result in errors...\n",
      "Parsing unknown version of ELAN spec... This could result in errors...\n",
      "Parsing unknown version of ELAN spec... This could result in errors...\n",
      "Parsing unknown version of ELAN spec... This could result in errors...\n",
      "Parsing unknown version of ELAN spec... This could result in errors...\n",
      "Parsing unknown version of ELAN spec... This could result in errors...\n",
      "Parsing unknown version of ELAN spec... This could result in errors...\n",
      "Parsing unknown version of ELAN spec... This could result in errors...\n",
      "Parsing unknown version of ELAN spec... This could result in errors...\n",
      "Parsing unknown version of ELAN spec... This could result in errors...\n",
      "Parsing unknown version of ELAN spec... This could result in errors...\n",
      "Parsing unknown version of ELAN spec... This could result in errors...\n",
      "Parsing unknown version of ELAN spec... This could result in errors...\n",
      "Parsing unknown version of ELAN spec... This could result in errors...\n",
      "Parsing unknown version of ELAN spec... This could result in errors...\n",
      "Parsing unknown version of ELAN spec... This could result in errors...\n"
     ]
    }
   ],
   "source": [
    "filenames = sorted(Path('/Users/niko/langdoc/kpv/').glob('**/kpv_izva*.eaf'))\n",
    "\n",
    "for filename in filenames:\n",
    "    elan_file = str(filename)\n",
    "    session_name = Path(elan_file).stem\n",
    "    vrt_file = 'vrt/' + session_name + '.vrt'\n",
    "    eaf2korp.eaf2vrt(elan_file_path = elan_file, vrt_file_path = vrt_file)\n",
    "    "
   ]
  },
  {
   "cell_type": "markdown",
   "metadata": {},
   "source": [
    "This leaves us with a folder full of VRT files. In this point we just have to specify the language which uralicNLP uses to run the analyser."
   ]
  },
  {
   "cell_type": "code",
   "execution_count": 8,
   "metadata": {},
   "outputs": [],
   "source": [
    "filenames = sorted(Path('vrt/').glob('*.vrt'))\n",
    "\n",
    "for filename in filenames:\n",
    "    vrt_file = str(filename)\n",
    "    eaf2korp.annotate_vrt(vrt_file_path = vrt_file, language = \"kpv\")\n"
   ]
  },
  {
   "cell_type": "markdown",
   "metadata": {},
   "source": [
    "The whole analysis takes few minutes, which seems more than reasonable."
   ]
  },
  {
   "cell_type": "code",
   "execution_count": null,
   "metadata": {},
   "outputs": [],
   "source": []
  },
  {
   "cell_type": "code",
   "execution_count": null,
   "metadata": {},
   "outputs": [],
   "source": []
  }
 ],
 "metadata": {
  "kernelspec": {
   "display_name": "Python 3",
   "language": "python",
   "name": "python3"
  },
  "language_info": {
   "codemirror_mode": {
    "name": "ipython",
    "version": 3
   },
   "file_extension": ".py",
   "mimetype": "text/x-python",
   "name": "python",
   "nbconvert_exporter": "python",
   "pygments_lexer": "ipython3",
   "version": "3.7.3"
  }
 },
 "nbformat": 4,
 "nbformat_minor": 2
}
